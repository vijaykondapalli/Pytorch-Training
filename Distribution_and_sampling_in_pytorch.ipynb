{
  "nbformat": 4,
  "nbformat_minor": 0,
  "metadata": {
    "colab": {
      "provenance": [],
      "gpuType": "T4",
      "authorship_tag": "ABX9TyPcGIxovZpCrfA4r9E2dRnG",
      "include_colab_link": true
    },
    "kernelspec": {
      "name": "python3",
      "display_name": "Python 3"
    },
    "language_info": {
      "name": "python"
    },
    "accelerator": "GPU"
  },
  "cells": [
    {
      "cell_type": "markdown",
      "metadata": {
        "id": "view-in-github",
        "colab_type": "text"
      },
      "source": [
        "<a href=\"https://colab.research.google.com/github/vijaykondapalli/Pytorch-Training/blob/main/Distribution_and_sampling_in_pytorch.ipynb\" target=\"_parent\"><img src=\"https://colab.research.google.com/assets/colab-badge.svg\" alt=\"Open In Colab\"/></a>"
      ]
    },
    {
      "cell_type": "code",
      "source": [
        "import torch\n",
        "import torch.distributions as dist"
      ],
      "metadata": {
        "id": "DcUhdQ4RQwDb"
      },
      "execution_count": 2,
      "outputs": []
    },
    {
      "cell_type": "code",
      "source": [
        "## lets create a bernouli distribution\n",
        "bernoulli_dist = dist.Bernoulli(torch.tensor([0.5]))\n",
        "## Print sample\n",
        "for i in range(10):\n",
        "  print(bernoulli_dist.sample())\n"
      ],
      "metadata": {
        "colab": {
          "base_uri": "https://localhost:8080/"
        },
        "id": "f9yyNCNkRybv",
        "outputId": "a2e9ff0a-3c56-48b6-e799-bfb6457518a8"
      },
      "execution_count": 11,
      "outputs": [
        {
          "output_type": "stream",
          "name": "stdout",
          "text": [
            "tensor([0.])\n",
            "tensor([0.])\n",
            "tensor([1.])\n",
            "tensor([0.])\n",
            "tensor([0.])\n",
            "tensor([0.])\n",
            "tensor([1.])\n",
            "tensor([1.])\n",
            "tensor([0.])\n",
            "tensor([0.])\n"
          ]
        }
      ]
    },
    {
      "cell_type": "code",
      "source": [
        "## draw 1000 samples\n",
        "##samples = bernoulli_dist.sample((1000,))\n",
        "bernoulli_samples = [bernoulli_dist.sample() for i in range(1000)]\n",
        "## Print sample\n",
        "print(f\"mean: {torch.mean(torch.stack(bernoulli_samples))}\")\n",
        "print(f\"variance: {torch.var(torch.stack(bernoulli_samples))}\")\n"
      ],
      "metadata": {
        "colab": {
          "base_uri": "https://localhost:8080/"
        },
        "id": "xCcCz96sXBlW",
        "outputId": "5f46b011-8407-47fd-aa0b-45bafe8f9811"
      },
      "execution_count": 25,
      "outputs": [
        {
          "output_type": "stream",
          "name": "stdout",
          "text": [
            "mean: 0.48899999260902405\n",
            "variance: 0.2501291334629059\n"
          ]
        }
      ]
    },
    {
      "cell_type": "code",
      "source": [
        "## Lets create normal distribution\n",
        "normal_dist = dist.Normal(torch.tensor([0.0]), torch.tensor([1.0]))\n",
        "## Print sample\n",
        "for i in range(10):\n",
        "  print(normal_dist.sample())"
      ],
      "metadata": {
        "colab": {
          "base_uri": "https://localhost:8080/"
        },
        "id": "iHUzr2D6dGXC",
        "outputId": "f4b95d69-d20e-4f79-c08e-4f55dee96713"
      },
      "execution_count": 26,
      "outputs": [
        {
          "output_type": "stream",
          "name": "stdout",
          "text": [
            "tensor([0.5098])\n",
            "tensor([-1.3657])\n",
            "tensor([0.8620])\n",
            "tensor([0.6375])\n",
            "tensor([0.0482])\n",
            "tensor([1.3309])\n",
            "tensor([-0.4792])\n",
            "tensor([1.4291])\n",
            "tensor([0.6747])\n",
            "tensor([-0.0349])\n"
          ]
        }
      ]
    },
    {
      "cell_type": "code",
      "source": [
        "normal_samples = [normal_dist.sample() for i in range(1000)]\n",
        "print(f\"mean: {torch.mean(torch.stack(normal_samples))}\")\n",
        "print(f\"variance: {torch.var(torch.stack(normal_samples))}\")\n",
        "\n"
      ],
      "metadata": {
        "colab": {
          "base_uri": "https://localhost:8080/"
        },
        "id": "TsgFd2DXd9HW",
        "outputId": "0d6103c6-6af3-425c-909d-df8a3d36e673"
      },
      "execution_count": 35,
      "outputs": [
        {
          "output_type": "stream",
          "name": "stdout",
          "text": [
            "mean: -0.01595495082437992\n",
            "variance: 1.0407270193099976\n"
          ]
        }
      ]
    }
  ]
}