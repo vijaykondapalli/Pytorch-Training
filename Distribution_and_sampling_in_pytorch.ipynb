{
  "nbformat": 4,
  "nbformat_minor": 0,
  "metadata": {
    "colab": {
      "provenance": [],
      "gpuType": "T4",
      "authorship_tag": "ABX9TyNoyDFHbkXJ6qRoLHyRIKAe",
      "include_colab_link": true
    },
    "kernelspec": {
      "name": "python3",
      "display_name": "Python 3"
    },
    "language_info": {
      "name": "python"
    },
    "accelerator": "GPU"
  },
  "cells": [
    {
      "cell_type": "markdown",
      "metadata": {
        "id": "view-in-github",
        "colab_type": "text"
      },
      "source": [
        "<a href=\"https://colab.research.google.com/github/vijaykondapalli/Pytorch-Training/blob/main/Distribution_and_sampling_in_pytorch.ipynb\" target=\"_parent\"><img src=\"https://colab.research.google.com/assets/colab-badge.svg\" alt=\"Open In Colab\"/></a>"
      ]
    },
    {
      "cell_type": "code",
      "source": [
        "import torch\n",
        "import torch.distributions as dist"
      ],
      "metadata": {
        "id": "DcUhdQ4RQwDb"
      },
      "execution_count": 2,
      "outputs": []
    },
    {
      "cell_type": "code",
      "source": [
        "## lets create a bernouli distribution\n",
        "bernoulli_dist = dist.Bernoulli(torch.tensor([0.5]))\n",
        "## Print sample\n",
        "for i in range(10):\n",
        "  print(bernoulli_dist.sample())\n"
      ],
      "metadata": {
        "colab": {
          "base_uri": "https://localhost:8080/"
        },
        "id": "f9yyNCNkRybv",
        "outputId": "a2e9ff0a-3c56-48b6-e799-bfb6457518a8"
      },
      "execution_count": 11,
      "outputs": [
        {
          "output_type": "stream",
          "name": "stdout",
          "text": [
            "tensor([0.])\n",
            "tensor([0.])\n",
            "tensor([1.])\n",
            "tensor([0.])\n",
            "tensor([0.])\n",
            "tensor([0.])\n",
            "tensor([1.])\n",
            "tensor([1.])\n",
            "tensor([0.])\n",
            "tensor([0.])\n"
          ]
        }
      ]
    },
    {
      "cell_type": "code",
      "source": [
        "## draw 1000 samples\n",
        "##samples = bernoulli_dist.sample((1000,))\n",
        "samples = [bernoulli_dist.sample() for i in range(1000)]\n",
        "## Print sample\n",
        "print(f\"mean: {torch.mean(torch.stack(samples))}\")\n",
        "print(f\"variance: {torch.var(torch.stack(samples))}\")\n"
      ],
      "metadata": {
        "colab": {
          "base_uri": "https://localhost:8080/"
        },
        "id": "xCcCz96sXBlW",
        "outputId": "5f46b011-8407-47fd-aa0b-45bafe8f9811"
      },
      "execution_count": 25,
      "outputs": [
        {
          "output_type": "stream",
          "name": "stdout",
          "text": [
            "mean: 0.48899999260902405\n",
            "variance: 0.2501291334629059\n"
          ]
        }
      ]
    }
  ]
}